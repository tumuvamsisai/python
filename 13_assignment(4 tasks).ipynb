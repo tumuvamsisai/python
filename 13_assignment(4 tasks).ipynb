{
 "cells": [
  {
   "cell_type": "markdown",
   "metadata": {},
   "source": [
    "Task1:\n",
    "#program to remove the duplicate values in a string:\n"
   ]
  },
  {
   "cell_type": "code",
   "execution_count": 1,
   "metadata": {},
   "outputs": [
    {
     "name": "stdout",
     "output_type": "stream",
     "text": [
      "After removing duplicate value from the word \"hello\" output is: helo\n",
      "\n",
      "After removing duplicate value from the word \"good\" output is: god\n"
     ]
    }
   ],
   "source": [
    "def RemoveDuplicates(str):\n",
    "    output=''\n",
    "    for i in str:\n",
    "        if i not in output:\n",
    "            output=output+i\n",
    "    return output\n",
    "str1=\"hello\"\n",
    "str2=\"good\"\n",
    "print(f\"\"\"After removing duplicate value from the word \"{str1}\" output is:\"\"\",RemoveDuplicates(str1))\n",
    "print(f\"\"\"\\nAfter removing duplicate value from the word \"{str2}\" output is:\"\"\",RemoveDuplicates(str2))"
   ]
  },
  {
   "cell_type": "markdown",
   "metadata": {},
   "source": [
    "Task2:\n",
    "#program to  perform squareroot,cuberoot and nth root for a given number and a root"
   ]
  },
  {
   "cell_type": "code",
   "execution_count": 2,
   "metadata": {},
   "outputs": [
    {
     "name": "stdout",
     "output_type": "stream",
     "text": [
      "enter the required number:16\n",
      "enter the required root:4\n",
      "\n",
      "The 4th root of 16 is: 2.0\n"
     ]
    }
   ],
   "source": [
    "class root:\n",
    "    def __init__(self,num,n):\n",
    "        self.num=num\n",
    "        self.n=n\n",
    "    def squareroot(self):\n",
    "            result=num**(1/n)\n",
    "            print(f\"\\nThe squareroot of {num} is:\",result)\n",
    "    def cuberoot(self):\n",
    "            result=num**(1/n)\n",
    "            print(f\"\\nThe cuberoot of {num} is:\", result)\n",
    "    def nthroot(self):\n",
    "            result=num**(1/n)\n",
    "            print(f\"\\nThe {n}th root of {num} is:\",result)\n",
    "        \n",
    "num=int(input(\"enter the required number:\"))\n",
    "n=int(input(\"enter the required root:\"))\n",
    "roots=root(num,n)\n",
    "if n==2:\n",
    "    roots.squareroot()\n",
    "elif n==3:\n",
    "    roots.cuberoot()\n",
    "elif n>=4:\n",
    "    roots.nthroot()"
   ]
  },
  {
   "cell_type": "markdown",
   "metadata": {},
   "source": [
    "Task3:\n",
    "#progrm to print the given list in reverse order"
   ]
  },
  {
   "cell_type": "code",
   "execution_count": 3,
   "metadata": {},
   "outputs": [
    {
     "name": "stdout",
     "output_type": "stream",
     "text": [
      "enter number of elements:5\n",
      "1\n",
      "3\n",
      "4\n",
      "5\n",
      "6\n",
      "Given list is: [1, 3, 4, 5, 6]\n",
      "The reverse order for the given list is: [6, 5, 4, 3, 1]\n"
     ]
    }
   ],
   "source": [
    "def Reverse(num):\n",
    "    list1=[]\n",
    "    n=int(input(\"enter number of elements:\"))\n",
    "    for i in range(n):\n",
    "        elements=int(input(\"\"))\n",
    "        list1.append(elements)\n",
    "    print(\"Given list is:\",list1)\n",
    "    list1.reverse()\n",
    "    return list1\n",
    "\n",
    "print(\"The reverse order for the given list is:\",Reverse(num))\n",
    "\n",
    "\n",
    "        "
   ]
  },
  {
   "cell_type": "markdown",
   "metadata": {},
   "source": [
    "task4:\n",
    "#program to print the largest and smallest numbers among the given three inputs"
   ]
  },
  {
   "cell_type": "code",
   "execution_count": 4,
   "metadata": {},
   "outputs": [
    {
     "name": "stdout",
     "output_type": "stream",
     "text": [
      "enter the required number:1\n",
      "enter the required number:2\n",
      "enter the required number:3\n",
      "\n",
      "The largest number is: 3\n",
      "\n",
      "The smallest number is: 1\n"
     ]
    }
   ],
   "source": [
    "class largest_smallest:\n",
    "    def __init__(self,num1,num2,num3):\n",
    "        self.a=num1\n",
    "        self.b=num2\n",
    "        self.c=num3\n",
    "    def largest(self):\n",
    "        if (num1 > num2) and (num1 > num3):\n",
    "            largest = num1\n",
    "        elif (num2 > num1) and (num2 > num3):\n",
    "            largest = num2\n",
    "        else:\n",
    "            largest = num3\n",
    "        print(\"\\nThe largest number is:\",largest)\n",
    "\n",
    "    def smallest(self):\n",
    "        if (num1 < num2) and (num1 < num3):\n",
    "            smallest = num1\n",
    "        elif (num2 < num1) and (num2 < num3):\n",
    "            smallest = num2\n",
    "        else:\n",
    "            smallest = num3\n",
    "        print(\"\\nThe smallest number is:\",smallest)\n",
    "\n",
    "num1=int(input(\"enter the required number:\"))\n",
    "num2=int(input(\"enter the required number:\"))\n",
    "num3=int(input(\"enter the required number:\"))\n",
    "numbers=largest_smallest(num1,num2,num3)\n",
    "numbers.largest()\n",
    "numbers.smallest()"
   ]
  },
  {
   "cell_type": "code",
   "execution_count": null,
   "metadata": {},
   "outputs": [],
   "source": []
  },
  {
   "cell_type": "code",
   "execution_count": null,
   "metadata": {},
   "outputs": [],
   "source": []
  },
  {
   "cell_type": "code",
   "execution_count": null,
   "metadata": {},
   "outputs": [],
   "source": []
  },
  {
   "cell_type": "code",
   "execution_count": null,
   "metadata": {},
   "outputs": [],
   "source": []
  }
 ],
 "metadata": {
  "kernelspec": {
   "display_name": "Python 3",
   "language": "python",
   "name": "python3"
  },
  "language_info": {
   "codemirror_mode": {
    "name": "ipython",
    "version": 3
   },
   "file_extension": ".py",
   "mimetype": "text/x-python",
   "name": "python",
   "nbconvert_exporter": "python",
   "pygments_lexer": "ipython3",
   "version": "3.8.3"
  }
 },
 "nbformat": 4,
 "nbformat_minor": 4
}
