{
 "cells": [
  {
   "cell_type": "markdown",
   "metadata": {},
   "source": [
    "# Task7 - go through other inbuilt methods like\n",
    "1) difference() 2) symmetric_difference()"
   ]
  },
  {
   "cell_type": "code",
   "execution_count": null,
   "metadata": {},
   "outputs": [],
   "source": [
    "#difference:Returns a set containing the difference between two or more sets\n",
    "x = {10, 20, 30, 40}\n",
    "y = {30, 40, 50, 60}\n",
    "z = x.difference(y) #Return a set that contains the items that only exist in set x, and not in set y\n",
    "print(z)"
   ]
  },
  {
   "cell_type": "code",
   "execution_count": 2,
   "metadata": {},
   "outputs": [
    {
     "name": "stdout",
     "output_type": "stream",
     "text": [
      "{40, 10, 20, 30}\n"
     ]
    }
   ],
   "source": [
    "#difference_update:Removes the items in this set that are also included in another, specified set\n",
    "x = {10,20,30,40}\n",
    "y = {30,40,50,60}\n",
    "y.difference_update(x) #Return a set that contains the items that only exist in set y, and not in set x\n",
    "print(x)"
   ]
  },
  {
   "cell_type": "code",
   "execution_count": 3,
   "metadata": {},
   "outputs": [
    {
     "name": "stdout",
     "output_type": "stream",
     "text": [
      "{10, 50, 20, 60}\n",
      "symmetric_difference operation is not but same like xor operation: {10, 50, 20, 60}\n"
     ]
    }
   ],
   "source": [
    "#symmetric_difference:Returns a set with the symmetric differences of two sets\n",
    "x = {10, 20, 30, 40}\n",
    "y = {30, 40, 50, 60}\n",
    "print (x.symmetric_difference(y)) #Remove the items that is not present in both x and y  :\n",
    "print(\"symmetric_difference operation is not but same like xor operation:\", x^y)"
   ]
  },
  {
   "cell_type": "code",
   "execution_count": 4,
   "metadata": {},
   "outputs": [
    {
     "name": "stdout",
     "output_type": "stream",
     "text": [
      "{10, 50, 20, 60}\n"
     ]
    }
   ],
   "source": [
    "#symmetric_difference:Returns a set with the symmetric differences of two sets\n",
    "x = {10, 20, 30, 40}\n",
    "y = {30, 40, 50, 60}\n",
    "y.symmetric_difference_update(x)#Remove the items that is not present in both x and y\n",
    "print(y)\n",
    " \n"
   ]
  },
  {
   "cell_type": "code",
   "execution_count": 5,
   "metadata": {},
   "outputs": [
    {
     "name": "stdout",
     "output_type": "stream",
     "text": [
      "True\n"
     ]
    }
   ],
   "source": [
    "#isdisjoint:Return True if no items in set x is present in set y\n",
    "x = {\"cat\", \"dog\", \"puppy\"}\n",
    "y = {\"horse\", \"pig\", \"mouse\"}\n",
    "z = x.isdisjoint(y) \n",
    "print(z)"
   ]
  },
  {
   "cell_type": "code",
   "execution_count": 6,
   "metadata": {},
   "outputs": [
    {
     "name": "stdout",
     "output_type": "stream",
     "text": [
      "True\n"
     ]
    }
   ],
   "source": [
    "#issubset:Return True if all items set x are present in set y\n",
    "x = {\"a\", \"b\", \"c\"}\n",
    "y = {\"f\", \"e\", \"d\", \"c\", \"b\", \"a\"}\n",
    "z = x.issubset(y) \n",
    "print(z)"
   ]
  },
  {
   "cell_type": "code",
   "execution_count": 7,
   "metadata": {},
   "outputs": [
    {
     "name": "stdout",
     "output_type": "stream",
     "text": [
      "True\n"
     ]
    }
   ],
   "source": [
    "#issuperset:Return True if all items set y are present in set x\n",
    "x = {\"f\", \"e\", \"d\", \"c\", \"b\", \"a\"}\n",
    "y = {\"a\", \"b\", \"c\"}\n",
    "z = x.issuperset(y)\n",
    "print(z)\n"
   ]
  },
  {
   "cell_type": "code",
   "execution_count": null,
   "metadata": {},
   "outputs": [],
   "source": []
  }
 ],
 "metadata": {
  "kernelspec": {
   "display_name": "Python 3",
   "language": "python",
   "name": "python3"
  },
  "language_info": {
   "codemirror_mode": {
    "name": "ipython",
    "version": 3
   },
   "file_extension": ".py",
   "mimetype": "text/x-python",
   "name": "python",
   "nbconvert_exporter": "python",
   "pygments_lexer": "ipython3",
   "version": "3.8.3"
  }
 },
 "nbformat": 4,
 "nbformat_minor": 4
}
