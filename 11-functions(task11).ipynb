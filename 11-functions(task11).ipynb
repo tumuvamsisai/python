{
 "cells": [
  {
   "cell_type": "markdown",
   "metadata": {},
   "source": [
    "# Task11\n",
    "- Ask 2 numbers from users and store it in num1 and num2\n",
    "- Ask user to press 1 for addition,2 for subtraction,for multiplication and 4 for divisioncreate \n",
    "- seperate functions for each operation (i.e. addition,subtraction,multiplication and division)\n",
    "- based on number given by user,call that perticular function and print the output\n",
    "  "
   ]
  },
  {
   "cell_type": "code",
   "execution_count": 1,
   "metadata": {},
   "outputs": [],
   "source": [
    "def add(x=1,y=1):\n",
    "    z=x+y\n",
    "    print(\"Result:Addition of {} and {} is\".format(x,y),z)\n",
    "def sub(x=1,y=1):\n",
    "    z=x-y\n",
    "    print(\"Result:Substraction of {} and {} is\".format(x,y),z)\n",
    "def mul(x=1,y=1):\n",
    "    z=x*y\n",
    "    print(\"Result:Multiplication of {} and {} is\".format(x,y),z)\n",
    "def div(x=1,y=1):\n",
    "    z=x/y\n",
    "    print(\"Result:Division of {} and {} is\".format(x,y),z)"
   ]
  },
  {
   "cell_type": "code",
   "execution_count": 3,
   "metadata": {},
   "outputs": [
    {
     "name": "stdout",
     "output_type": "stream",
     "text": [
      "please enter required number:55\n",
      "please enter required number:45\n",
      "-----------------------------------------------------\n",
      "Below are the choices to perform required operation please select one:\n",
      "1)Addition\n",
      "2)Subtraction\n",
      "3)Multiplication\n",
      "4)Division\n",
      "-----------------------------------------------------\n",
      "please enter the required choice :1\n",
      "Result:Addition of 55 and 45 is 100\n"
     ]
    }
   ],
   "source": [
    "num1=int(input(\"please enter required number:\"))\n",
    "num2=int(input(\"please enter required number:\"))\n",
    "print(\"-----------------------------------------------------\")\n",
    "print(\"Below are the choices to perform required operation please select one:\")\n",
    "print(\"1)Addition\")\n",
    "print(\"2)Subtraction\")\n",
    "print(\"3)Multiplication\")\n",
    "print(\"4)Division\")\n",
    "print(\"-----------------------------------------------------\")\n",
    "choice = input(\"please enter the required choice :\")\n",
    "while True:\n",
    "    if choice ==\"1\":\n",
    "        add(num1,num2)\n",
    "        break\n",
    "    elif choice ==\"2\":\n",
    "        sub(num1,num2)\n",
    "        break\n",
    "    elif choice ==\"3\":\n",
    "        mul(num1,num2)\n",
    "        break\n",
    "    elif choice ==\"4\":\n",
    "        div(num1,num2)\n",
    "        break\n",
    "    else:\n",
    "        print(\"invalid choice\")\n",
    "        break"
   ]
  },
  {
   "cell_type": "code",
   "execution_count": null,
   "metadata": {},
   "outputs": [],
   "source": []
  },
  {
   "cell_type": "code",
   "execution_count": null,
   "metadata": {},
   "outputs": [],
   "source": []
  },
  {
   "cell_type": "code",
   "execution_count": null,
   "metadata": {},
   "outputs": [],
   "source": []
  }
 ],
 "metadata": {
  "kernelspec": {
   "display_name": "Python 3",
   "language": "python",
   "name": "python3"
  },
  "language_info": {
   "codemirror_mode": {
    "name": "ipython",
    "version": 3
   },
   "file_extension": ".py",
   "mimetype": "text/x-python",
   "name": "python",
   "nbconvert_exporter": "python",
   "pygments_lexer": "ipython3",
   "version": "3.8.3"
  }
 },
 "nbformat": 4,
 "nbformat_minor": 4
}
