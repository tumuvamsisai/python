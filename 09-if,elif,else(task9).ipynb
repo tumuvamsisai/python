{
 "cells": [
  {
   "cell_type": "markdown",
   "metadata": {},
   "source": [
    "# task9"
   ]
  },
  {
   "cell_type": "markdown",
   "metadata": {},
   "source": [
    "Ask 2 numbers from users and store it in num1 and num2"
   ]
  },
  {
   "cell_type": "code",
   "execution_count": 1,
   "metadata": {},
   "outputs": [
    {
     "name": "stdout",
     "output_type": "stream",
     "text": [
      "please enter the required number:6\n",
      "number1 is: 6\n",
      "please enter the required number:99\n",
      "number2 is: 99\n"
     ]
    }
   ],
   "source": [
    "\n",
    "num1=int(input(\"please enter the required number:\"))\n",
    "print(\"number1 is:\",num1)\n",
    "num2=int(input(\"please enter the required number:\"))\n",
    "print(\"number2 is:\",num2)"
   ]
  },
  {
   "cell_type": "code",
   "execution_count": null,
   "metadata": {},
   "outputs": [],
   "source": []
  },
  {
   "cell_type": "markdown",
   "metadata": {},
   "source": [
    "Ask user to press 1 for addition,2 for subtraction,3 for multiplication and 4 for division"
   ]
  },
  {
   "cell_type": "code",
   "execution_count": 2,
   "metadata": {},
   "outputs": [
    {
     "name": "stdout",
     "output_type": "stream",
     "text": [
      "please enter number1:9\n",
      "please enter number2:5\n",
      "enter the choice to perform the required operation \n",
      " 1)addition \n",
      " 2)substraction \n",
      " 3)multiplicaton \n",
      " 4)divison\n",
      "the selected choice is:2\n",
      "the substraction of two numbers is: 4\n"
     ]
    }
   ],
   "source": [
    "num1=int(input(\"please enter number1:\"))\n",
    "num2=int(input(\"please enter number2:\"))\n",
    "print(\"enter the choice to perform the required operation \\n 1)addition \\n 2)substraction \\n 3)multiplicaton \\n 4)divison\")\n",
    "choice=int(input(\"the selected choice is:\"))\n",
    "if choice == 1:\n",
    "    print(\"the addition of two numbers is:\",num1+num2)\n",
    "elif choice == 2 :\n",
    "    print(\"the substraction of two numbers is:\",num1-num2)\n",
    "elif choice == 3 :\n",
    "    print(\"the multiplication of two numbers is:\",num1*num2)\n",
    "elif choice == 4 :\n",
    "    print(\"the Division of two numbers is:\",num1/num2)\n",
    "    "
   ]
  },
  {
   "cell_type": "markdown",
   "metadata": {},
   "source": []
  },
  {
   "cell_type": "markdown",
   "metadata": {},
   "source": [
    "based on number given by user do the math operation"
   ]
  },
  {
   "cell_type": "code",
   "execution_count": 3,
   "metadata": {},
   "outputs": [
    {
     "name": "stdout",
     "output_type": "stream",
     "text": [
      "select 1 for addition:\n",
      "select 2 for subtraction\n",
      "select 3 for multiplication\n",
      "select 4 for division\n",
      "select 5 to get power of two numbers\n",
      "select 6 to get the remainder of two number\n",
      "select 7 to get module division of two numbers\n",
      "====================================================\n",
      "select the number to perform required operation:6\n",
      "please enter number1:8\n",
      "please enter number2:99\n",
      "the remainder of 8 and 99 is 8\n"
     ]
    }
   ],
   "source": [
    "print(\"select 1 for addition:\")\n",
    "print(\"select 2 for subtraction\")\n",
    "print(\"select 3 for multiplication\")\n",
    "print(\"select 4 for division\")\n",
    "print(\"select 5 to get power of two numbers\")\n",
    "print(\"select 6 to get the remainder of two number\")\n",
    "print(\"select 7 to get module division of two numbers\")\n",
    "print(\"====================================================\")\n",
    "choice = input(\"select the number to perform required operation:\")\n",
    "if choice ==\"1\":\n",
    "        number1=int(input(\"please enter number1:\"))\n",
    "        number2=int(input(\"please enter number2:\"))\n",
    "        result=number1 + number2\n",
    "        print(f\"the sum of {number1} and {number2} is\",result)\n",
    "elif choice == \"2\":\n",
    "        number1 = int(input(\"please enter number1:\"))\n",
    "        number2 = int(input(\"please enter number2:\"))\n",
    "        result = number1 - number2\n",
    "        print(f\"the difference of {number1} and {number2} is\", result)\n",
    "elif choice == \"3\":\n",
    "        number1 = int(input(\"please enter number1:\"))\n",
    "        number2 = int(input(\"please enter number2:\"))\n",
    "        result = number1 * number2\n",
    "        print(f\"the multiplication of {number1} and {number2} is\", result)\n",
    "elif choice == \"4\":\n",
    "        number1 = int(input(\"please enter number1:\"))\n",
    "        number2 = int(input(\"please enter number2:\"))\n",
    "        result = number1 / number2\n",
    "        print(f\"the division of {number1} and {number2} is\", result)\n",
    "elif choice == \"5\":\n",
    "        number1 = int(input(\"please enter number1:\"))\n",
    "        number2 = int(input(\"please enter number2:\"))\n",
    "        result = number1 ** number2\n",
    "        print(f\"the power of {number1} and {number2} is\", result)\n",
    "\n",
    "elif choice == \"6\":\n",
    "        number1 = int(input(\"please enter number1:\"))\n",
    "        number2 = int(input(\"please enter number2:\"))\n",
    "        result = number1 % number2\n",
    "        print(f\"the remainder of {number1} and {number2} is\", result)\n",
    "elif choice == \"7\":\n",
    "        number1 = int(input(\"please enter number1:\"))\n",
    "        number2 = int(input(\"please enter number2:\"))\n",
    "        result = number1 // number2\n",
    "        print(f\"the modulo division  of {number1} and {number2} is\", result)\n",
    "else:\n",
    "        print(\"\\ninvalid choice,please select the required from 1 to 7 \")\n",
    "        exit()"
   ]
  },
  {
   "cell_type": "code",
   "execution_count": null,
   "metadata": {},
   "outputs": [],
   "source": []
  }
 ],
 "metadata": {
  "kernelspec": {
   "display_name": "Python 3",
   "language": "python",
   "name": "python3"
  },
  "language_info": {
   "codemirror_mode": {
    "name": "ipython",
    "version": 3
   },
   "file_extension": ".py",
   "mimetype": "text/x-python",
   "name": "python",
   "nbconvert_exporter": "python",
   "pygments_lexer": "ipython3",
   "version": "3.8.3"
  }
 },
 "nbformat": 4,
 "nbformat_minor": 4
}
