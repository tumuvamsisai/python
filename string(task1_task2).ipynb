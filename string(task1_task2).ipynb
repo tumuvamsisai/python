{
 "cells": [
  {
   "cell_type": "code",
   "execution_count": 7,
   "metadata": {},
   "outputs": [
    {
     "name": "stdout",
     "output_type": "stream",
     "text": [
      "     vamsi sai\n",
      "vamsi sai\n",
      "vamsi sai    \n",
      "vamsi sai\n",
      "   vamsi sai   \n",
      "vamsi sai\n"
     ]
    }
   ],
   "source": [
    "#task1:string in-built functions\n",
    "#removing spaces from string by using strip function\n",
    "str1 =\"     vamsi sai\"\n",
    "str2=\"vamsi sai    \"\n",
    "str3=\"   vamsi sai   \"\n",
    "print(str1)\n",
    "print(str1.lstrip())\n",
    "print(str2)\n",
    "print(str2.rstrip())\n",
    "print(str3)\n",
    "print(str3.strip())\n"
   ]
  },
  {
   "cell_type": "code",
   "execution_count": 8,
   "metadata": {},
   "outputs": [
    {
     "name": "stdout",
     "output_type": "stream",
     "text": [
      "vamsi is a bad boy\n",
      "vamsi is a good boy\n",
      "2090666865248\n",
      "2090666420304\n"
     ]
    }
   ],
   "source": [
    "#replace:\n",
    "str=\"vamsi is a bad boy\"\n",
    "str1=str.replace(\"bad\",\"good\")\n",
    "print(str)\n",
    "print(str1)\n",
    "print(id(str))\n",
    "print(id(str1))"
   ]
  },
  {
   "cell_type": "code",
   "execution_count": 9,
   "metadata": {},
   "outputs": [
    {
     "name": "stdout",
     "output_type": "stream",
     "text": [
      "['python', 'python', 'java', 'java', 'c', 'c']\n",
      "python python java java c c\n"
     ]
    }
   ],
   "source": [
    "#split: used to split the given string\n",
    "#join:used to join words\n",
    "\n",
    "str=\"python python java java c c\"\n",
    "str1=str.split(\" \")\n",
    "print(str1)\n",
    "print(' '.join(str1))"
   ]
  },
  {
   "cell_type": "code",
   "execution_count": 10,
   "metadata": {},
   "outputs": [
    {
     "name": "stdout",
     "output_type": "stream",
     "text": [
      "True\n",
      "False\n",
      "True\n",
      "False\n",
      "True\n",
      "True\n",
      "False\n",
      "True\n",
      "True\n",
      "False\n",
      "True\n",
      "True\n"
     ]
    }
   ],
   "source": [
    "#to check the type of character present in the string\n",
    "'''\n",
    "1) isalnum(): Returns True if all characters are alphanumeric( a to z , A to Z ,0 to9 )\n",
    "2) isalpha(): Returns True if all characters are only alphabet symbols(a to z,A to Z)\n",
    "3) isdigit(): Returns True if all characters are digits only( 0 to 9)\n",
    "4) islower(): Returns True if all characters are lower case alphabet symbols\n",
    "5) isupper(): Returns True if all characters are upper case aplhabet symbols\n",
    "6) istitle(): Returns True if string is in title case\n",
    "7) isspace(): Returns True if string contains only spaces'''\n",
    "\n",
    "print('virat183'.isalnum())\n",
    "print('virat183'.isalpha())\n",
    "print('virat'.isalpha())\n",
    "print('virat183'.isdigit())\n",
    "print('183'.isdigit())\n",
    "print('abc'.islower())\n",
    "print('Abc'.islower())\n",
    "print('abc123'.islower())\n",
    "print('ABC'.isupper())\n",
    "print('Learning python is Easy'.istitle())\n",
    "print('Learning Python Is Easy'.istitle())\n",
    "print(' '.isspace())"
   ]
  },
  {
   "cell_type": "code",
   "execution_count": null,
   "metadata": {},
   "outputs": [],
   "source": [
    "# count\n",
    "str=\"abcdabcdabcdaa\"\n",
    "print(str.count('a'))"
   ]
  },
  {
   "cell_type": "code",
   "execution_count": null,
   "metadata": {},
   "outputs": [],
   "source": [
    "#finding  substrings:\n",
    "#find()\n",
    "#index()\n",
    "#rfind()\n",
    "#rindex()\n",
    "\n",
    "str=\"welcome to the python world\"\n",
    "print(str.find('python'))"
   ]
  },
  {
   "cell_type": "code",
   "execution_count": null,
   "metadata": {},
   "outputs": [],
   "source": []
  },
  {
   "cell_type": "code",
   "execution_count": null,
   "metadata": {},
   "outputs": [],
   "source": []
  }
 ],
 "metadata": {
  "kernelspec": {
   "display_name": "Python 3",
   "language": "python",
   "name": "python3"
  },
  "language_info": {
   "codemirror_mode": {
    "name": "ipython",
    "version": 3
   },
   "file_extension": ".py",
   "mimetype": "text/x-python",
   "name": "python",
   "nbconvert_exporter": "python",
   "pygments_lexer": "ipython3",
   "version": "3.8.3"
  }
 },
 "nbformat": 4,
 "nbformat_minor": 4
}
