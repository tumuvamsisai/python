{
 "cells": [
  {
   "cell_type": "code",
   "execution_count": 1,
   "metadata": {},
   "outputs": [],
   "source": [
    "#task1:string in-built functions:\n",
    "#replace:\n",
    "str=\"vamsi is a bad boy\"\n",
    "str1=str.replace(\"bad\",\"good\")\n",
    "print(str)\n",
    "print(str1)\n",
    "print(id(str))\n",
    "print(id(str1))"
   ]
  },
  {
   "cell_type": "code",
   "execution_count": 2,
   "metadata": {},
   "outputs": [
    {
     "name": "stdout",
     "output_type": "stream",
     "text": [
      "['python', 'python', 'java', 'java', 'c', 'c']\n",
      "python python java java c c\n"
     ]
    }
   ],
   "source": [
    "#split: used to split the given string\n",
    "#join:used to join words\n",
    "\n",
    "str=\"python python java java c c\"\n",
    "str1=str.split(\" \")\n",
    "print(str1)\n",
    "print(' '.join(str1))"
   ]
  },
  {
   "cell_type": "code",
   "execution_count": 3,
   "metadata": {},
   "outputs": [
    {
     "name": "stdout",
     "output_type": "stream",
     "text": [
      "True\n",
      "False\n",
      "True\n",
      "False\n",
      "True\n",
      "True\n",
      "False\n",
      "True\n",
      "True\n",
      "False\n",
      "True\n",
      "True\n"
     ]
    }
   ],
   "source": [
    "#to check the type of character present in the string\n",
    "'''\n",
    "1) isalnum(): Returns True if all characters are alphanumeric( a to z , A to Z ,0 to9 )\n",
    "2) isalpha(): Returns True if all characters are only alphabet symbols(a to z,A to Z)\n",
    "3) isdigit(): Returns True if all characters are digits only( 0 to 9)\n",
    "4) islower(): Returns True if all characters are lower case alphabet symbols\n",
    "5) isupper(): Returns True if all characters are upper case aplhabet symbols\n",
    "6) istitle(): Returns True if string is in title case\n",
    "7) isspace(): Returns True if string contains only spaces'''\n",
    "\n",
    "print('virat183'.isalnum())\n",
    "print('virat183'.isalpha())\n",
    "print('virat'.isalpha())\n",
    "print('virat183'.isdigit())\n",
    "print('183'.isdigit())\n",
    "print('abc'.islower())\n",
    "print('Abc'.islower())\n",
    "print('abc123'.islower())\n",
    "print('ABC'.isupper())\n",
    "print('Learning python is Easy'.istitle())\n",
    "print('Learning Python Is Easy'.istitle())\n",
    "print(' '.isspace())"
   ]
  },
  {
   "cell_type": "code",
   "execution_count": 4,
   "metadata": {},
   "outputs": [
    {
     "name": "stdout",
     "output_type": "stream",
     "text": [
      "5\n"
     ]
    }
   ],
   "source": [
    "# count\n",
    "str=\"abcdabcdabcdaa\"\n",
    "print(str.count('a'))"
   ]
  },
  {
   "cell_type": "code",
   "execution_count": 36,
   "metadata": {},
   "outputs": [
    {
     "name": "stdout",
     "output_type": "stream",
     "text": [
      "str1=      \"vamsi sai\"\n",
      "str1= \"vamsi sai\"\n",
      "str2= \"vamsi sai\"     \n",
      "str2= \"vamsi sai\"\n",
      "str3=    \"vamsi sai\"   \n",
      "str3= \"vamsi sai\"\n"
     ]
    }
   ],
   "source": [
    "#removing spaces from string by using strip function\n",
    "str1 =\"     \\\"vamsi sai\\\"\"\n",
    "str2=\"\\\"vamsi sai\\\"     \"\n",
    "str3=\"   \\\"vamsi sai\\\"   \"\n",
    "print(\"str1=\",str1)\n",
    "print(\"str1=\",str1.lstrip())\n",
    "print(\"str2=\",str2)\n",
    "print(\"str2=\",str2.rstrip())\n",
    "print(\"str3=\",str3)\n",
    "print(\"str3=\",str3.strip())"
   ]
  },
  {
   "cell_type": "code",
   "execution_count": 10,
   "metadata": {},
   "outputs": [
    {
     "name": "stdout",
     "output_type": "stream",
     "text": [
      "True\n",
      "False\n",
      "True\n",
      "False\n"
     ]
    }
   ],
   "source": [
    "#checking startig and end of string:\n",
    "str=\"strings are immutable in nature\"\n",
    "print(str.startswith(\"strings\"))\n",
    "print(str.startswith(\"vamsi\"))\n",
    "print(str.endswith(\"nature\"))\n",
    "print(str.endswith(\"sai\"))\n"
   ]
  },
  {
   "cell_type": "code",
   "execution_count": 24,
   "metadata": {},
   "outputs": [
    {
     "name": "stdout",
     "output_type": "stream",
     "text": [
      "0\n",
      "4\n",
      "-1\n",
      "0\n",
      "4\n"
     ]
    },
    {
     "ename": "ValueError",
     "evalue": "substring not found",
     "output_type": "error",
     "traceback": [
      "\u001b[1;31m---------------------------------------------------------------------------\u001b[0m",
      "\u001b[1;31mValueError\u001b[0m                                Traceback (most recent call last)",
      "\u001b[1;32m<ipython-input-24-e7df0f4dce4d>\u001b[0m in \u001b[0;36m<module>\u001b[1;34m\u001b[0m\n\u001b[0;32m      7\u001b[0m \u001b[0mprint\u001b[0m\u001b[1;33m(\u001b[0m\u001b[0mstr\u001b[0m\u001b[1;33m.\u001b[0m\u001b[0mindex\u001b[0m\u001b[1;33m(\u001b[0m\u001b[1;34m\"a\"\u001b[0m\u001b[1;33m)\u001b[0m\u001b[1;33m)\u001b[0m\u001b[1;33m\u001b[0m\u001b[1;33m\u001b[0m\u001b[0m\n\u001b[0;32m      8\u001b[0m \u001b[0mprint\u001b[0m\u001b[1;33m(\u001b[0m\u001b[0mstr\u001b[0m\u001b[1;33m.\u001b[0m\u001b[0mrindex\u001b[0m\u001b[1;33m(\u001b[0m\u001b[1;34m\"a\"\u001b[0m\u001b[1;33m)\u001b[0m\u001b[1;33m)\u001b[0m\u001b[1;33m\u001b[0m\u001b[1;33m\u001b[0m\u001b[0m\n\u001b[1;32m----> 9\u001b[1;33m \u001b[0mprint\u001b[0m\u001b[1;33m(\u001b[0m\u001b[0mstr\u001b[0m\u001b[1;33m.\u001b[0m\u001b[0mindex\u001b[0m\u001b[1;33m(\u001b[0m\u001b[1;34m\"e\"\u001b[0m\u001b[1;33m)\u001b[0m\u001b[1;33m)\u001b[0m\u001b[1;31m# if the char is not present then it will return an error\u001b[0m\u001b[1;33m\u001b[0m\u001b[1;33m\u001b[0m\u001b[0m\n\u001b[0m",
      "\u001b[1;31mValueError\u001b[0m: substring not found"
     ]
    }
   ],
   "source": [
    "str=\"abcdabcd\"\n",
    "print(str.find(\"a\"))\n",
    "print(str.rfind(\"a\"))\n",
    "print(str.find(\"e\"))# if the char is not present then it will return -1\n",
    "#index\n",
    "str=\"abcdabcd\"\n",
    "print(str.index(\"a\"))\n",
    "print(str.rindex(\"a\"))\n",
    "print(str.index(\"e\"))# if the char is not present then it will return an error\n"
   ]
  },
  {
   "cell_type": "code",
   "execution_count": 38,
   "metadata": {},
   "outputs": [
    {
     "name": "stdout",
     "output_type": "stream",
     "text": [
      "please enter the substring:kk\n",
      "sub-string not found:\n"
     ]
    }
   ],
   "source": [
    "#task2:to find substring in a string\n",
    "string=\"welcome to python\"\n",
    "sub=input(\"please enter the substring:\")\n",
    "if sub in string:\n",
    "    print(\"sub-string found\")\n",
    "else:\n",
    "    print(\"sub-string not found\")\n",
    "    \n",
    "    "
   ]
  },
  {
   "cell_type": "code",
   "execution_count": 22,
   "metadata": {},
   "outputs": [
    {
     "name": "stdout",
     "output_type": "stream",
     "text": [
      "8\n",
      "-1\n",
      "7\n"
     ]
    },
    {
     "ename": "ValueError",
     "evalue": "substring not found",
     "output_type": "error",
     "traceback": [
      "\u001b[1;31m---------------------------------------------------------------------------\u001b[0m",
      "\u001b[1;31mValueError\u001b[0m                                Traceback (most recent call last)",
      "\u001b[1;32m<ipython-input-22-3ddbf2c3234e>\u001b[0m in \u001b[0;36m<module>\u001b[1;34m\u001b[0m\n\u001b[0;32m      6\u001b[0m \u001b[0mstr2\u001b[0m\u001b[1;33m=\u001b[0m\u001b[1;34m\"python is easy to learn\"\u001b[0m\u001b[1;33m\u001b[0m\u001b[1;33m\u001b[0m\u001b[0m\n\u001b[0;32m      7\u001b[0m \u001b[0mprint\u001b[0m\u001b[1;33m(\u001b[0m\u001b[0mstr2\u001b[0m\u001b[1;33m.\u001b[0m\u001b[0mindex\u001b[0m\u001b[1;33m(\u001b[0m\u001b[1;34m\"is\"\u001b[0m\u001b[1;33m)\u001b[0m\u001b[1;33m)\u001b[0m\u001b[1;33m\u001b[0m\u001b[1;33m\u001b[0m\u001b[0m\n\u001b[1;32m----> 8\u001b[1;33m \u001b[0mprint\u001b[0m\u001b[1;33m(\u001b[0m\u001b[0mstr2\u001b[0m\u001b[1;33m.\u001b[0m\u001b[0mindex\u001b[0m\u001b[1;33m(\u001b[0m\u001b[1;34m\"to0\"\u001b[0m\u001b[1;33m)\u001b[0m\u001b[1;33m)\u001b[0m\u001b[1;33m\u001b[0m\u001b[1;33m\u001b[0m\u001b[0m\n\u001b[0m",
      "\u001b[1;31mValueError\u001b[0m: substring not found"
     ]
    }
   ],
   "source": [
    "#we can also inbuilt use find or index to find the substring\n",
    "\n",
    "str1=\"welcome to the python world\"\n",
    "print(str1.find(\"to\"))\n",
    "print(str1.find(\"is\"))\n",
    "str2=\"python is easy to learn\"\n",
    "print(str2.index(\"is\"))\n",
    "print(str2.index(\"too\"))\n"
   ]
  },
  {
   "cell_type": "code",
   "execution_count": null,
   "metadata": {},
   "outputs": [],
   "source": []
  }
 ],
 "metadata": {
  "kernelspec": {
   "display_name": "Python 3",
   "language": "python",
   "name": "python3"
  },
  "language_info": {
   "codemirror_mode": {
    "name": "ipython",
    "version": 3
   },
   "file_extension": ".py",
   "mimetype": "text/x-python",
   "name": "python",
   "nbconvert_exporter": "python",
   "pygments_lexer": "ipython3",
   "version": "3.8.3"
  }
 },
 "nbformat": 4,
 "nbformat_minor": 4
}
