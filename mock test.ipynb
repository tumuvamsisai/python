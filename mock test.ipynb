{
 "cells": [
  {
   "cell_type": "markdown",
   "metadata": {},
   "source": [
    "Mock Test\n",
    "1.\tWrite a python function to accept user inputs, store it in a list and compute the highest number out of it. User can enter as many numbers as he/she wants."
   ]
  },
  {
   "cell_type": "code",
   "execution_count": 1,
   "metadata": {},
   "outputs": [],
   "source": [
    "def maxnum(ele):\n",
    "    mylist=[]\n",
    "    try:\n",
    "        print(\"Please enter the required number:\\n\")\n",
    "        while True:\n",
    "            ele=int(input(\"enter the number:\"))\n",
    "            mylist.append(ele)\n",
    "    except(TypeError,ValueError):\n",
    "        print(\"Only integers are are allowed:\")\n",
    "\n",
    "    print(\"\\nEntered list of numbers by user is:\",mylist)\n",
    "    print(\"\\nThe highest number from given list is:\",max(mylist,default=\"null\"))"
   ]
  },
  {
   "cell_type": "code",
   "execution_count": 2,
   "metadata": {},
   "outputs": [
    {
     "name": "stdout",
     "output_type": "stream",
     "text": [
      "Please enter the required number:\n",
      "\n",
      "enter the number:10\n",
      "enter the number:19\n",
      "enter the number:29\n",
      "enter the number:38\n",
      "enter the number:47\n",
      "enter the number:56\n",
      "enter the number:nine\n",
      "Only integers are are allowed:\n",
      "\n",
      "Entered list of numbers by user is: [10, 19, 29, 38, 47, 56]\n",
      "\n",
      "The highest number from given list is: 56\n"
     ]
    }
   ],
   "source": [
    "mylist=[]\n",
    "maxnum(mylist)"
   ]
  },
  {
   "cell_type": "code",
   "execution_count": null,
   "metadata": {},
   "outputs": [],
   "source": []
  }
 ],
 "metadata": {
  "kernelspec": {
   "display_name": "Python 3",
   "language": "python",
   "name": "python3"
  },
  "language_info": {
   "codemirror_mode": {
    "name": "ipython",
    "version": 3
   },
   "file_extension": ".py",
   "mimetype": "text/x-python",
   "name": "python",
   "nbconvert_exporter": "python",
   "pygments_lexer": "ipython3",
   "version": "3.8.3"
  }
 },
 "nbformat": 4,
 "nbformat_minor": 4
}
