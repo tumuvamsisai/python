{
 "cells": [
  {
   "cell_type": "markdown",
   "metadata": {},
   "source": [
    "# Task6 - Add and remove the elements from a tuple.\n",
    "(we cannot add or remove elements from tuple so we are converting tuple to list and then adding/removing the elements then again converting to tuple)"
   ]
  },
  {
   "cell_type": "code",
   "execution_count": 1,
   "metadata": {},
   "outputs": [
    {
     "name": "stdout",
     "output_type": "stream",
     "text": [
      "list: [1, 2, 3, 4, 6, 7, 8]\n",
      "tuple1_add: (1, 2, 3, 4, 6, 7, 8, 9)\n",
      "tuple2_add: (1, 2, 3, 4, 5, 6, 7, 8, 9)\n"
     ]
    }
   ],
   "source": [
    "#adding elements into tuple\n",
    "tuple1=(1,2,3,4,6,7,8)\n",
    "list1=list(tuple1)             #using list method to convert from tuple to list\n",
    "print(\"list:\",list1)\n",
    "list1.append(9)                #append method is used to add the element in the last \n",
    "tuple1_add=tuple(list1)        #using tuple method to convert from list to tuple\n",
    "print(\"tuple1_add:\",tuple1_add)\n",
    "list1.insert(4,5)              #insert function is used to add the element at specific index in the given list\n",
    "tuple2_add=tuple(list1)\n",
    "print(\"tuple2_add:\",tuple2_add)\n"
   ]
  },
  {
   "cell_type": "code",
   "execution_count": 2,
   "metadata": {},
   "outputs": [
    {
     "name": "stdout",
     "output_type": "stream",
     "text": [
      "list: ['this', 'is', 'is', 'task6', 'related', 'to', 'to', 'tuple']\n",
      "tuple_remove1: ('this', 'is', 'task6', 'related', 'to', 'to', 'tuple')\n",
      "tuple_remove2: ('this', 'is', 'task6', 'related', 'to', 'tuple')\n"
     ]
    }
   ],
   "source": [
    "#removing the elements from tuple\n",
    "tuple2=(\"this\",\"is\",\"is\",\"task6\",\"related\",\"to\",\"to\",\"tuple\")\n",
    "list2=list(tuple2)\n",
    "print(\"list:\",list2)\n",
    "list2.remove(\"is\")                     #Removes the first item with the specified value\n",
    "tuple_remove1=tuple(list2)\n",
    "print(\"tuple_remove1:\",tuple_remove1)\n",
    "list2.pop(5)                           #Removes the element at the specified position\n",
    "tuple_remove2=tuple(list2)\n",
    "print(\"tuple_remove2:\",tuple_remove2)"
   ]
  },
  {
   "cell_type": "code",
   "execution_count": null,
   "metadata": {},
   "outputs": [],
   "source": []
  },
  {
   "cell_type": "code",
   "execution_count": null,
   "metadata": {},
   "outputs": [],
   "source": []
  },
  {
   "cell_type": "code",
   "execution_count": null,
   "metadata": {},
   "outputs": [],
   "source": []
  }
 ],
 "metadata": {
  "kernelspec": {
   "display_name": "Python 3",
   "language": "python",
   "name": "python3"
  },
  "language_info": {
   "codemirror_mode": {
    "name": "ipython",
    "version": 3
   },
   "file_extension": ".py",
   "mimetype": "text/x-python",
   "name": "python",
   "nbconvert_exporter": "python",
   "pygments_lexer": "ipython3",
   "version": "3.8.3"
  }
 },
 "nbformat": 4,
 "nbformat_minor": 4
}
